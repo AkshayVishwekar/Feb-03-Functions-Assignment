{
 "cells": [
  {
   "cell_type": "markdown",
   "id": "a084ce43-65b8-4623-adca-01f63befe411",
   "metadata": {},
   "source": [
    "##Q1. which keyword is used to create function? Create a function to return a list of odd numbers in the given range of 1 to 25."
   ]
  },
  {
   "cell_type": "markdown",
   "id": "f814e041-bfad-48fa-918d-cecd68a5e53a",
   "metadata": {},
   "source": [
    "Ans : def keyword is used to create a function."
   ]
  },
  {
   "cell_type": "code",
   "execution_count": 24,
   "id": "0a20118f-d987-43d0-988f-34b3c9cce8ae",
   "metadata": {},
   "outputs": [
    {
     "data": {
      "text/plain": [
       "[1, 3, 5, 7, 9, 11, 13, 15, 17, 19, 21, 23]"
      ]
     },
     "execution_count": 24,
     "metadata": {},
     "output_type": "execute_result"
    }
   ],
   "source": [
    "def listOfOdd():\n",
    "    l1=[]\n",
    "    for i in range(1,25):\n",
    "        if i%2 != 0:\n",
    "            l1.append(i)\n",
    "    return l1\n",
    "listOfOdd()"
   ]
  },
  {
   "cell_type": "markdown",
   "id": "bbb4dd78-05a2-494a-9bcf-b8a51deefd6a",
   "metadata": {},
   "source": [
    "##Q2. Why *args and **kwargs is used in some functions? Create a function each for *args and kwargs to demonstrate their use."
   ]
  },
  {
   "cell_type": "markdown",
   "id": "25d23382-727e-4e56-9d97-7c0660ccd4f9",
   "metadata": {},
   "source": [
    "Ans : We use *args and **kwargs as an argument when we are unsure about the number of arguments to pass in the functions."
   ]
  },
  {
   "cell_type": "code",
   "execution_count": 57,
   "id": "5c768ef7-e513-497a-93da-0e6d121f5432",
   "metadata": {},
   "outputs": [
    {
     "name": "stdout",
     "output_type": "stream",
     "text": [
      "The args[0] having: Pw\n",
      "The args[1] having: Skills\n",
      "The args[2] having: This is really cool\n",
      "The args[3] having: 1\n"
     ]
    }
   ],
   "source": [
    "#a function for *args to demonstrate its use.\n",
    "def demo1(*args):\n",
    "    \"\"\"a function for *args to demonstrate its use.\"\"\"\n",
    "    index=0\n",
    "    for i in args:\n",
    "        print(\"The args[\"+str(index)+\"] having:\",i)\n",
    "        index+=1\n",
    "demo1(\"Pw\", \"Skills\", \"This is really cool\", 1)"
   ]
  },
  {
   "cell_type": "code",
   "execution_count": 58,
   "id": "f2619b4f-7db7-4676-a38a-5c5eea6168af",
   "metadata": {},
   "outputs": [
    {
     "name": "stdout",
     "output_type": "stream",
     "text": [
      "The kwargs[0] having key 'FirstName' and value 'PW'\n",
      "The kwargs[1] having key 'LastName' and value 'Skills'\n",
      "The kwargs[2] having key 'Location' and value 'Data'\n",
      "The kwargs[3] having key 'CourseEnrolled' and value 'Science Master'\n"
     ]
    }
   ],
   "source": [
    "def demo2(**kwargs):\n",
    "    \"\"\"a function for kwargs to demonstrate its use.\"\"\"\n",
    "    index=0\n",
    "    for key, value in kwargs.items():\n",
    "        print(\"The kwargs[\"+str(index)+\"] having key '\"+str(key)+ \"' and value '\"+str(value)+\"'\")\n",
    "        index+=1\n",
    "demo2(FirstName= \"PW\", LastName= \"Skills\", Location= \"Data\", CourseEnrolled= \"Science Master\")"
   ]
  },
  {
   "cell_type": "markdown",
   "id": "83e11074-598e-4e76-b383-afdd1ff4df69",
   "metadata": {},
   "source": [
    "##Q3. What is an iterator in python? Name the method used to initialise the iterator object and the method used for iteration. Use these methods to print the first five elements of the given list [2, 4, 6, 8, 10, 12, 14, 16, 18, 20]."
   ]
  },
  {
   "cell_type": "markdown",
   "id": "a307a4aa-7fea-40d2-a3e4-e2a3f7a54815",
   "metadata": {},
   "source": [
    "Ans : Iterators are methods that iterate collections like lists, tuples, etc. Using an iterator method, we can loop through an object and return its elements. The for loop in Python is used to iterate over a sequence of elements, such as a list, tuple, or string. When we use the for loop with an iterator, the loop will automatically iterate over the elements of the iterator until it is exhausted."
   ]
  },
  {
   "cell_type": "code",
   "execution_count": 45,
   "id": "ec874980-efcc-43e7-8e9a-5addd1761d1d",
   "metadata": {},
   "outputs": [
    {
     "name": "stdout",
     "output_type": "stream",
     "text": [
      "2\n",
      "4\n",
      "6\n",
      "8\n",
      "10\n"
     ]
    }
   ],
   "source": [
    "#Use iterator methods to print the first five elements of the given list [2, 4, 6, 8, 10, 12, 14, 16, 18, 20]\n",
    "l=[2, 4, 6, 8, 10, 12, 14, 16, 18, 20]\n",
    "count=0\n",
    "for i in l:\n",
    "    if count<5:\n",
    "        print(i)\n",
    "        count+=1"
   ]
  },
  {
   "cell_type": "markdown",
   "id": "efaac628-a323-43d4-86bc-7cbc11ab5ced",
   "metadata": {},
   "source": [
    "##Q4. What is a generator function in python? Why yield keyword is used? Give an example of a generator function."
   ]
  },
  {
   "cell_type": "markdown",
   "id": "97d65d62-c8af-46b4-a554-272f3e46b9b6",
   "metadata": {},
   "source": [
    "Ans : A generator function in Python is a special type of function that returns a generator iterator, which can be used to iterate over a sequence of elements. A generator function is defined like a normal function, but instead of using the return statement to return a value, it uses the yield statement. The yield statement is used to produce a value, and the generator function can be resumed from where it left off the next time next() is called on the generator."
   ]
  },
  {
   "cell_type": "code",
   "execution_count": 46,
   "id": "9b2af534-75d4-4433-b3e4-9a16b251479d",
   "metadata": {},
   "outputs": [
    {
     "name": "stdout",
     "output_type": "stream",
     "text": [
      "0\n",
      "1\n",
      "1\n",
      "2\n",
      "3\n",
      "5\n",
      "8\n",
      "13\n",
      "21\n",
      "34\n"
     ]
    }
   ],
   "source": [
    "#the fibonacci series program using generator yield\n",
    "def fibonacci():\n",
    "    \"\"\"This function will generate fibonacci sequence\"\"\"\n",
    "    a, b = 0, 1\n",
    "    while True:\n",
    "        yield a\n",
    "        a, b = b, a + b\n",
    "\n",
    "fib = fibonacci()\n",
    "for i in range(10):\n",
    "    print(next(fib))"
   ]
  },
  {
   "cell_type": "markdown",
   "id": "81f66fff-c1be-40ac-9ce3-e7772c83a0ed",
   "metadata": {},
   "source": [
    "##Q5. Create a generator function for prime numbers less than 1000. Use the next() method to print the\n",
    "first 20 prime numbers."
   ]
  },
  {
   "cell_type": "code",
   "execution_count": 59,
   "id": "627a4e58-7c5d-42f7-84bd-410a34f76c48",
   "metadata": {},
   "outputs": [
    {
     "name": "stdout",
     "output_type": "stream",
     "text": [
      "2\n",
      "3\n",
      "5\n",
      "7\n",
      "11\n",
      "13\n",
      "17\n",
      "19\n",
      "23\n",
      "29\n",
      "31\n",
      "37\n",
      "41\n",
      "43\n",
      "47\n",
      "53\n",
      "59\n",
      "61\n",
      "67\n",
      "71\n"
     ]
    }
   ],
   "source": [
    "def primes():\n",
    "    \"\"\"Create a generator function for prime numbers less than 1000.\"\"\"\n",
    "    yield 2\n",
    "    primes_list = [2]\n",
    "    for i in range(3, 1000):\n",
    "        is_prime = True\n",
    "        for prime in primes_list:\n",
    "            if i % prime == 0:\n",
    "                is_prime = False\n",
    "                break\n",
    "        if is_prime:\n",
    "            primes_list.append(i)\n",
    "            yield i\n",
    "\n",
    "prime_gen = primes()\n",
    "# the next() method to print the first 20 prime numbers.\n",
    "for i in range(20):\n",
    "    print(next(prime_gen))"
   ]
  },
  {
   "cell_type": "code",
   "execution_count": null,
   "id": "436ae9df-4bea-4e25-ba1c-01c598988f4c",
   "metadata": {},
   "outputs": [],
   "source": []
  },
  {
   "cell_type": "code",
   "execution_count": null,
   "id": "5e22f262-9f3d-4dd0-ae3e-83d928a2eea1",
   "metadata": {},
   "outputs": [],
   "source": []
  },
  {
   "cell_type": "code",
   "execution_count": null,
   "id": "b41b2724-55a4-41b7-a69f-01ed2cff1ecb",
   "metadata": {},
   "outputs": [],
   "source": []
  },
  {
   "cell_type": "code",
   "execution_count": null,
   "id": "a374130b-f18a-430c-ba41-5f13bf886550",
   "metadata": {},
   "outputs": [],
   "source": []
  },
  {
   "cell_type": "code",
   "execution_count": null,
   "id": "ffebb629-aa80-46e1-a258-27542c0986b3",
   "metadata": {},
   "outputs": [],
   "source": []
  },
  {
   "cell_type": "code",
   "execution_count": null,
   "id": "77ad79e0-c031-48fa-a9db-cc8a81e80765",
   "metadata": {},
   "outputs": [],
   "source": []
  }
 ],
 "metadata": {
  "kernelspec": {
   "display_name": "Python 3 (ipykernel)",
   "language": "python",
   "name": "python3"
  },
  "language_info": {
   "codemirror_mode": {
    "name": "ipython",
    "version": 3
   },
   "file_extension": ".py",
   "mimetype": "text/x-python",
   "name": "python",
   "nbconvert_exporter": "python",
   "pygments_lexer": "ipython3",
   "version": "3.10.8"
  }
 },
 "nbformat": 4,
 "nbformat_minor": 5
}
